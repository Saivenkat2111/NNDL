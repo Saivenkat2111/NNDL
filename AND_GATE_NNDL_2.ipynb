{
  "nbformat": 4,
  "nbformat_minor": 0,
  "metadata": {
    "colab": {
      "provenance": [],
      "authorship_tag": "ABX9TyNFBk6OP9F3b2uys6lqxQrV",
      "include_colab_link": true
    },
    "kernelspec": {
      "name": "python3",
      "display_name": "Python 3"
    },
    "language_info": {
      "name": "python"
    }
  },
  "cells": [
    {
      "cell_type": "markdown",
      "metadata": {
        "id": "view-in-github",
        "colab_type": "text"
      },
      "source": [
        "<a href=\"https://colab.research.google.com/github/Saivenkat2111/NNDL/blob/main/AND_GATE_NNDL_2.ipynb\" target=\"_parent\"><img src=\"https://colab.research.google.com/assets/colab-badge.svg\" alt=\"Open In Colab\"/></a>"
      ]
    },
    {
      "cell_type": "code",
      "execution_count": 1,
      "metadata": {
        "id": "1kr-QqfXZxMS"
      },
      "outputs": [],
      "source": [
        "# Importing library\n",
        "import numpy as np"
      ]
    },
    {
      "cell_type": "code",
      "source": [
        "#Initializing variables for AND Gate\n",
        "X = np.asarray([[0,0],[0,1],[1,0],[1,1]])\n",
        "W = np.asarray([1,1])\n",
        "Wsum_Arr = np.dot(X,W)\n",
        "\n",
        "y_pred = np.asarray([0,0,0,0])"
      ],
      "metadata": {
        "id": "ga0U-tVLZ702"
      },
      "execution_count": 2,
      "outputs": []
    },
    {
      "cell_type": "code",
      "source": [
        "# STEP Function\n",
        "def step(NW,n):\n",
        "  if (NW[n]>=1.5):\n",
        "    return 1\n",
        "  else:\n",
        "    return 0"
      ],
      "metadata": {
        "id": "K6X6CLk4Z-U1"
      },
      "execution_count": 3,
      "outputs": []
    },
    {
      "cell_type": "code",
      "source": [
        "for i in range(X.shape[0]):\n",
        "  y_pred[i] = step(Wsum_Arr,i)\n",
        "\n",
        "print(y_pred) #Expected Output: [0,0,0,1]"
      ],
      "metadata": {
        "colab": {
          "base_uri": "https://localhost:8080/"
        },
        "id": "PVdenl0ZaAoW",
        "outputId": "cb0d7be3-a77b-4b1d-8ba8-cbdce466ce3e"
      },
      "execution_count": 4,
      "outputs": [
        {
          "output_type": "stream",
          "name": "stdout",
          "text": [
            "[0 0 0 1]\n"
          ]
        }
      ]
    }
  ]
}