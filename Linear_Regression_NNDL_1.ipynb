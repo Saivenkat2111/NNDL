{
  "nbformat": 4,
  "nbformat_minor": 0,
  "metadata": {
    "colab": {
      "provenance": []
    },
    "kernelspec": {
      "name": "python3",
      "display_name": "Python 3"
    },
    "language_info": {
      "name": "python"
    }
  },
  "cells": [
    {
      "cell_type": "code",
      "execution_count": 1,
      "metadata": {
        "id": "3nqX6VyrY-l1"
      },
      "outputs": [],
      "source": [
        "def linear_regression(x,y):\n",
        "  n = len(x)\n",
        "  x_sum = sum(x)\n",
        "  y_sum = sum(y)\n",
        "  xy_sum = sum([xi*yi for xi,yi in zip(x,y)])\n",
        "  x_squared_sum = sum([xi**2 for xi in x])\n",
        "\n",
        "  #Calculate b1(or slope) and b0(or intercept)\n",
        "  b1 = (n*xy_sum - x_sum*y_sum)/(n*x_squared_sum - x_sum**2)\n",
        "  b0 = (y_sum-b1*x_sum)/n\n",
        "\n",
        "  return b1, b0"
      ]
    },
    {
      "cell_type": "code",
      "source": [
        "x = [5,6,8,10]\n",
        "y = [11,11,15,24]\n",
        "\n",
        "b1, b0 = linear_regression(x,y)"
      ],
      "metadata": {
        "id": "k93iRAJrZX3i"
      },
      "execution_count": 2,
      "outputs": []
    },
    {
      "cell_type": "code",
      "source": [
        "print(\"Slope -\",b1)"
      ],
      "metadata": {
        "colab": {
          "base_uri": "https://localhost:8080/"
        },
        "id": "NNRs8br3ZdVl",
        "outputId": "e02e22a6-91c1-4978-c3c7-49ff6d15a4c5"
      },
      "execution_count": 3,
      "outputs": [
        {
          "output_type": "stream",
          "name": "stdout",
          "text": [
            "Slope - 2.6271186440677967\n"
          ]
        }
      ]
    },
    {
      "cell_type": "code",
      "source": [
        "print(\"Intercept -\",b0)"
      ],
      "metadata": {
        "colab": {
          "base_uri": "https://localhost:8080/"
        },
        "id": "xbANqwClZhZV",
        "outputId": "b4871451-518f-4c82-ad6e-f9470deba22f"
      },
      "execution_count": 4,
      "outputs": [
        {
          "output_type": "stream",
          "name": "stdout",
          "text": [
            "Intercept - -3.796610169491526\n"
          ]
        }
      ]
    }
  ]
}